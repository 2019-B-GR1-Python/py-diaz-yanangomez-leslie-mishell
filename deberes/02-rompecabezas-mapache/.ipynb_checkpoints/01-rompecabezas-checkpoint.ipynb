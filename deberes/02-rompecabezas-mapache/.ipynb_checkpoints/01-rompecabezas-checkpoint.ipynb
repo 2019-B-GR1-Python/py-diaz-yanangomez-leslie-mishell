{
 "cells": [
  {
   "cell_type": "markdown",
   "metadata": {},
   "source": [
    "## Clasificación Imágenes\n",
    "* Se pixelan (la mayoria de formatos)\n",
    "* No se pixelan (generalmente svg - imagenes vectoriales, se recrean mientras se les hace zoom)"
   ]
  },
  {
   "cell_type": "code",
   "execution_count": 3,
   "metadata": {},
   "outputs": [],
   "source": [
    "## Poner que hay que hacer para llegar a esto (ejem: un rompecabezas)\n",
    "import numpy as np"
   ]
  },
  {
   "cell_type": "code",
   "execution_count": 2,
   "metadata": {},
   "outputs": [],
   "source": [
    "from scipy import ndimage\n",
    "from scipy import misc"
   ]
  },
  {
   "cell_type": "code",
   "execution_count": 3,
   "metadata": {},
   "outputs": [],
   "source": [
    "mapache = misc.face() # Es una matriz de 3 dimensiones"
   ]
  },
  {
   "cell_type": "code",
   "execution_count": 4,
   "metadata": {},
   "outputs": [
    {
     "data": {
      "text/plain": [
       "(768, 1024, 3)"
      ]
     },
     "execution_count": 4,
     "metadata": {},
     "output_type": "execute_result"
    }
   ],
   "source": [
    "mapache.shape"
   ]
  },
  {
   "cell_type": "markdown",
   "metadata": {},
   "source": [
    "## Dibujar el mapache"
   ]
  },
  {
   "cell_type": "code",
   "execution_count": 5,
   "metadata": {},
   "outputs": [],
   "source": [
    "import matplotlib.pyplot as plt"
   ]
  },
  {
   "cell_type": "code",
   "execution_count": 6,
   "metadata": {},
   "outputs": [],
   "source": [
    "m1, m2, m3 = np.split(mapache, 3)"
   ]
  },
  {
   "cell_type": "code",
   "execution_count": 7,
   "metadata": {},
   "outputs": [],
   "source": [
    "p1, p2, p3, p4 = np.hsplit(m1,4)\n",
    "a1, a2, a3, a4 = np.hsplit(m1,4)\n",
    "c1, c2, c3, c4 = np.hsplit(m1,4)"
   ]
  },
  {
   "cell_type": "code",
   "execution_count": 8,
   "metadata": {},
   "outputs": [],
   "source": [
    "rompecabezas = {\n",
    "    \"1\": p1,\n",
    "    \"2\": p2,\n",
    "    \"3\": p3,\n",
    "    \"4\": p4,\n",
    "    \"5\": a1,\n",
    "    \"6\": a2,\n",
    "    \"7\": a3,\n",
    "    \"8\": a4,\n",
    "    \"9\": c1,\n",
    "    \"10\": c2,\n",
    "    \"11\": c3,\n",
    "    \"12\": c4,\n",
    "}\n",
    "orden = np.arange(1,13)"
   ]
  },
  {
   "cell_type": "code",
   "execution_count": null,
   "metadata": {},
   "outputs": [
    {
     "name": "stdout",
     "output_type": "stream",
     "text": [
      "ROMPECABEZAS DEL MAPACHE\n",
      "Posiciones de las piezas\n",
      "[['5' '4' '11' '9']\n",
      " ['6' '12' '10' '3']\n",
      " ['2' '8' '7' '1']]\n",
      "Ingrese el elemento a intercambiar\n",
      "Escriba el primer elemento5\n",
      "Escriba el segundo elemento1\n",
      "Los elementos 5 y 1 han sido intercambiados\n",
      "ROMPECABEZAS DEL MAPACHE\n",
      "Posiciones de las piezas\n",
      "[['1' '4' '11' '9']\n",
      " ['6' '12' '10' '3']\n",
      " ['2' '8' '7' '5']]\n",
      "Ingrese el elemento a intercambiar\n",
      "Escriba el primer elemento4\n",
      "Escriba el segundo elemento2\n",
      "Los elementos 4 y 2 han sido intercambiados\n",
      "ROMPECABEZAS DEL MAPACHE\n",
      "Posiciones de las piezas\n",
      "[['1' '2' '11' '9']\n",
      " ['6' '12' '10' '3']\n",
      " ['4' '8' '7' '5']]\n",
      "Ingrese el elemento a intercambiar\n",
      "Escriba el primer elemento11\n",
      "Escriba el segundo elemento3\n",
      "Los elementos 11 y 3 han sido intercambiados\n",
      "ROMPECABEZAS DEL MAPACHE\n",
      "Posiciones de las piezas\n",
      "[['1' '2' '3' '9']\n",
      " ['6' '12' '10' '11']\n",
      " ['4' '8' '7' '5']]\n",
      "Ingrese el elemento a intercambiar\n",
      "Escriba el primer elemento9\n",
      "Escriba el segundo elemento4\n",
      "Los elementos 9 y 4 han sido intercambiados\n",
      "ROMPECABEZAS DEL MAPACHE\n",
      "Posiciones de las piezas\n",
      "[['1' '2' '3' '4']\n",
      " ['6' '12' '10' '11']\n",
      " ['9' '8' '7' '5']]\n",
      "Ingrese el elemento a intercambiar\n",
      "Escriba el primer elemento6\n",
      "Escriba el segundo elemento5\n",
      "Los elementos 6 y 5 han sido intercambiados\n",
      "ROMPECABEZAS DEL MAPACHE\n",
      "Posiciones de las piezas\n",
      "[['1' '2' '3' '4']\n",
      " ['5' '12' '10' '11']\n",
      " ['9' '8' '7' '6']]\n",
      "Ingrese el elemento a intercambiar\n",
      "Escriba el primer elemento12\n",
      "Escriba el segundo elemento6\n",
      "Los elementos 12 y 6 han sido intercambiados\n",
      "ROMPECABEZAS DEL MAPACHE\n",
      "Posiciones de las piezas\n",
      "[['1' '2' '3' '4']\n",
      " ['5' '6' '10' '11']\n",
      " ['9' '8' '7' '12']]\n",
      "Ingrese el elemento a intercambiar\n",
      "Escriba el primer elemento10\n",
      "Escriba el segundo elemento7\n",
      "Los elementos 10 y 7 han sido intercambiados\n",
      "ROMPECABEZAS DEL MAPACHE\n",
      "Posiciones de las piezas\n",
      "[['1' '2' '3' '4']\n",
      " ['5' '6' '7' '11']\n",
      " ['9' '8' '10' '12']]\n",
      "Ingrese el elemento a intercambiar\n",
      "Escriba el primer elemento11\n",
      "Escriba el segundo elemento8\n",
      "Los elementos 11 y 8 han sido intercambiados\n",
      "ROMPECABEZAS DEL MAPACHE\n",
      "Posiciones de las piezas\n",
      "[['1' '2' '3' '4']\n",
      " ['5' '6' '7' '8']\n",
      " ['9' '11' '10' '12']]\n",
      "Ingrese el elemento a intercambiar\n",
      "Escriba el primer elemento10\n",
      "Escriba el segundo elemento11\n",
      "Los elementos 10 y 11 han sido intercambiados\n",
      "ROMPECABEZAS DEL MAPACHE\n",
      "Posiciones de las piezas\n",
      "[['1' '2' '3' '4']\n",
      " ['5' '6' '7' '8']\n",
      " ['9' '10' '11' '12']]\n",
      "Ingrese el elemento a intercambiar\n",
      "Escriba el primer elemento1\n",
      "Escriba el segundo elemento1\n",
      "Los elementos 1 y 1 han sido intercambiados\n",
      "ROMPECABEZAS DEL MAPACHE\n",
      "Posiciones de las piezas\n",
      "[['1' '2' '3' '4']\n",
      " ['5' '6' '7' '8']\n",
      " ['9' '10' '11' '12']]\n",
      "Ingrese el elemento a intercambiar\n"
     ]
    }
   ],
   "source": [
    "def intercambiarPosiciones(tablero, pieza1, pieza2):\n",
    "    tablero_intercambio = tablero.flatten()\n",
    "    indp1 = np.where(tablero_intercambio==pieza1)\n",
    "    indp2 = np.where(tablero_intercambio==pieza2)\n",
    "    tablero_intercambio[indp1[0]] = pieza2\n",
    "    tablero_intercambio[indp2[0]] = pieza1\n",
    "    return tablero_intercambio.reshape(3,4)\n",
    "    \n",
    "def principal():\n",
    "    opcion = 0\n",
    "    tablero_pos = np.array([\"5\", \"4\", \"11\", \"9\", \"6\", \"12\", \"10\", \"3\", \"2\", \"8\", \"7\", \"1\"]).reshape(3,4)\n",
    "    while(opcion < 5):\n",
    "        print(\"ROMPECABEZAS DEL MAPACHE\")\n",
    "        print(\"Posiciones de las piezas\")\n",
    "        print(np.matrix(tablero_pos))\n",
    "        print(\"Ingrese el elemento a intercambiar\")\n",
    "        pos1 = input(\"Escriba el primer elemento\")\n",
    "        pos2 = input(\"Escriba el segundo elemento\")\n",
    "        try:\n",
    "            posicion1 = int(pos1)\n",
    "            posicion2 = int(pos2)\n",
    "            if(posicion1 > 0 and posicion1 < 13 and posicion2 > 0 and posicion2 < 13):\n",
    "                tablero_pos = intercambiarPosiciones(tablero_pos, pos1, pos2)\n",
    "                print(f\"Los elementos {posicion1} y {posicion2} han sido intercambiados\")\n",
    "                if(comprobarCompletado(tablero_pos)):\n",
    "                    print(\"Rompecabezas Completado\")\n",
    "                    opcion = 5\n",
    "            else:\n",
    "                print(\"El elemento no esta en la lista\")\n",
    "        except Exception as error:\n",
    "            print(\"Ingrese solo numeros\", error)\n",
    "            opcion = 5\n",
    "principal()"
   ]
  },
  {
   "cell_type": "code",
   "execution_count": null,
   "metadata": {},
   "outputs": [],
   "source": [
    "tablero_pos = np.array([\"1\", \"2\", \"3\", \"4\", \"5\", \"6\", \"7\", \"8\", \"9\", \"10\", \"11\", \"2\"]).reshape(3,4)\n",
    "comprobarCompletado(tablero_pos)"
   ]
  },
  {
   "cell_type": "code",
   "execution_count": 10,
   "metadata": {},
   "outputs": [],
   "source": [
    "def comprobarCompletado(tablero):\n",
    "    array_tablero = tablero.flatten()\n",
    "    array_tablero_ordenado = np.arange(1,13)\n",
    "    def to_string(valor):\n",
    "        return str(valor)\n",
    "    list(map(to_string, array_tablero_ordenado))\n",
    "    \n",
    "    sum_errores = 0\n",
    "    contador = 0\n",
    "    while(contador < 12):\n",
    "        if (array_tablero[contador] != array_tablero_ordenado[contador]):\n",
    "            sum_errores = sum_errores + 1\n",
    "        contador = contador + 1\n",
    "    if(sum_errores != 0):\n",
    "        return False\n",
    "    else:\n",
    "        return True"
   ]
  },
  {
   "cell_type": "code",
   "execution_count": null,
   "metadata": {},
   "outputs": [],
   "source": [
    "array_tablero_ordenado = np.arange(1,13)\n",
    "    def to_string(valor):\n",
    "        return str(valor)\n",
    "    list(map(to_string, array_tablero_ordenado))"
   ]
  },
  {
   "cell_type": "code",
   "execution_count": null,
   "metadata": {},
   "outputs": [],
   "source": []
  }
 ],
 "metadata": {
  "kernelspec": {
   "display_name": "Python 3",
   "language": "python",
   "name": "python3"
  },
  "language_info": {
   "codemirror_mode": {
    "name": "ipython",
    "version": 3
   },
   "file_extension": ".py",
   "mimetype": "text/x-python",
   "name": "python",
   "nbconvert_exporter": "python",
   "pygments_lexer": "ipython3",
   "version": "3.7.3"
  }
 },
 "nbformat": 4,
 "nbformat_minor": 2
}
