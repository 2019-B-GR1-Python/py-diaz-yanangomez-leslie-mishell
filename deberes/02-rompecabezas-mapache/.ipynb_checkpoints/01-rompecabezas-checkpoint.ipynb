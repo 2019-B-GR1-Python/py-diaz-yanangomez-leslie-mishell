{
 "cells": [
  {
   "cell_type": "code",
   "execution_count": 1,
   "metadata": {},
   "outputs": [],
   "source": [
    "## Poner que hay que hacer para llegar a esto (ejem: un rompecabezas)\n",
    "import numpy as np"
   ]
  },
  {
   "cell_type": "code",
   "execution_count": 2,
   "metadata": {},
   "outputs": [],
   "source": [
    "from scipy import ndimage\n",
    "from scipy import misc"
   ]
  },
  {
   "cell_type": "code",
   "execution_count": 3,
   "metadata": {},
   "outputs": [],
   "source": [
    "import matplotlib.pyplot as plt"
   ]
  },
  {
   "cell_type": "code",
   "execution_count": 4,
   "metadata": {},
   "outputs": [],
   "source": [
    "mapache = misc.face() # Es una matriz de 3 dimensiones"
   ]
  },
  {
   "cell_type": "code",
   "execution_count": 5,
   "metadata": {},
   "outputs": [],
   "source": [
    "m1, m2, m3 = np.split(mapache, 3)"
   ]
  },
  {
   "cell_type": "code",
   "execution_count": 6,
   "metadata": {},
   "outputs": [],
   "source": [
    "p1, p2, p3, p4 = np.hsplit(m1,4)\n",
    "a1, a2, a3, a4 = np.hsplit(m1,4)\n",
    "c1, c2, c3, c4 = np.hsplit(m1,4)"
   ]
  },
  {
   "cell_type": "code",
   "execution_count": 7,
   "metadata": {},
   "outputs": [],
   "source": [
    "rompecabezas = {\n",
    "    \"1\": p1,\n",
    "    \"2\": p2,\n",
    "    \"3\": p3,\n",
    "    \"4\": p4,\n",
    "    \"5\": a1,\n",
    "    \"6\": a2,\n",
    "    \"7\": a3,\n",
    "    \"8\": a4,\n",
    "    \"9\": c1,\n",
    "    \"10\": c2,\n",
    "    \"11\": c3,\n",
    "    \"12\": c4,\n",
    "}"
   ]
  },
  {
   "cell_type": "code",
   "execution_count": 8,
   "metadata": {},
   "outputs": [],
   "source": [
    "def nuevo_tablero():\n",
    "    array_aleatorio = np.random.permutation(np.arange(1,13))\n",
    "    tablero = np.array(list(map(to_string, array_aleatorio)))\n",
    "    return tablero.reshape(3,4)"
   ]
  },
  {
   "cell_type": "code",
   "execution_count": 9,
   "metadata": {},
   "outputs": [],
   "source": [
    "def comprobarCompletado(tablero):\n",
    "    array_tablero = tablero.flatten()\n",
    "    array_tablero_ordenado = np.array(list(map(to_string, np.arange(1,13))))\n",
    "    puntos_error = 0\n",
    "    condicion_son_iguales = array_tablero == array_tablero_ordenado\n",
    "    for condicion in condicion_son_iguales:\n",
    "        if(condicion != True):\n",
    "            puntos_error = puntos_error + 1\n",
    "    if(puntos_error != 0):\n",
    "        return False\n",
    "    else:\n",
    "        return True"
   ]
  },
  {
   "cell_type": "code",
   "execution_count": 10,
   "metadata": {},
   "outputs": [],
   "source": [
    "def intercambiarPosiciones(tablero, pieza1, pieza2):\n",
    "    tablero_intercambio = tablero.flatten()\n",
    "    indp1 = np.where(tablero_intercambio==pieza1)\n",
    "    indp2 = np.where(tablero_intercambio==pieza2)\n",
    "    tablero_intercambio[indp1[0]] = pieza2\n",
    "    tablero_intercambio[indp2[0]] = pieza1\n",
    "    return tablero_intercambio.reshape(3,4)"
   ]
  },
  {
   "cell_type": "code",
   "execution_count": 11,
   "metadata": {},
   "outputs": [],
   "source": [
    " def to_string(valor):\n",
    "    return str(valor)"
   ]
  },
  {
   "cell_type": "code",
   "execution_count": 12,
   "metadata": {},
   "outputs": [
    {
     "name": "stdout",
     "output_type": "stream",
     "text": [
      "\n",
      "ROMPECABEZAS DEL MAPACHE\n",
      "\n",
      "Posiciones de las piezas\n",
      "\n",
      "[['9' '8' '1' '12']\n",
      " ['10' '7' '5' '2']\n",
      " ['4' '3' '11' '6']]\n",
      "\n",
      "Ingrese los elementos a intercambiar\n",
      "\n",
      "Escriba el primer elemento9\n",
      "Escriba el segundo elemento1\n",
      "***Los elementos 9 y 1 han sido intercambiados***\n",
      "\n",
      "\n",
      "ROMPECABEZAS DEL MAPACHE\n",
      "\n",
      "Posiciones de las piezas\n",
      "\n",
      "[['1' '8' '9' '12']\n",
      " ['10' '7' '5' '2']\n",
      " ['4' '3' '11' '6']]\n",
      "\n",
      "Ingrese los elementos a intercambiar\n",
      "\n",
      "Escriba el primer elemento8\n",
      "Escriba el segundo elemento2\n",
      "***Los elementos 8 y 2 han sido intercambiados***\n",
      "\n",
      "\n",
      "ROMPECABEZAS DEL MAPACHE\n",
      "\n",
      "Posiciones de las piezas\n",
      "\n",
      "[['1' '2' '9' '12']\n",
      " ['10' '7' '5' '8']\n",
      " ['4' '3' '11' '6']]\n",
      "\n",
      "Ingrese los elementos a intercambiar\n",
      "\n",
      "Escriba el primer elemento9\n",
      "Escriba el segundo elemento3\n",
      "***Los elementos 9 y 3 han sido intercambiados***\n",
      "\n",
      "\n",
      "ROMPECABEZAS DEL MAPACHE\n",
      "\n",
      "Posiciones de las piezas\n",
      "\n",
      "[['1' '2' '3' '12']\n",
      " ['10' '7' '5' '8']\n",
      " ['4' '9' '11' '6']]\n",
      "\n",
      "Ingrese los elementos a intercambiar\n",
      "\n",
      "Escriba el primer elemento12\n",
      "Escriba el segundo elemento4\n",
      "***Los elementos 12 y 4 han sido intercambiados***\n",
      "\n",
      "\n",
      "ROMPECABEZAS DEL MAPACHE\n",
      "\n",
      "Posiciones de las piezas\n",
      "\n",
      "[['1' '2' '3' '4']\n",
      " ['10' '7' '5' '8']\n",
      " ['12' '9' '11' '6']]\n",
      "\n",
      "Ingrese los elementos a intercambiar\n",
      "\n",
      "Escriba el primer elemento10\n",
      "Escriba el segundo elemento5\n",
      "***Los elementos 10 y 5 han sido intercambiados***\n",
      "\n",
      "\n",
      "ROMPECABEZAS DEL MAPACHE\n",
      "\n",
      "Posiciones de las piezas\n",
      "\n",
      "[['1' '2' '3' '4']\n",
      " ['5' '7' '10' '8']\n",
      " ['12' '9' '11' '6']]\n",
      "\n",
      "Ingrese los elementos a intercambiar\n",
      "\n",
      "Escriba el primer elemento7\n",
      "Escriba el segundo elemento6\n",
      "***Los elementos 7 y 6 han sido intercambiados***\n",
      "\n",
      "\n",
      "ROMPECABEZAS DEL MAPACHE\n",
      "\n",
      "Posiciones de las piezas\n",
      "\n",
      "[['1' '2' '3' '4']\n",
      " ['5' '6' '10' '8']\n",
      " ['12' '9' '11' '7']]\n",
      "\n",
      "Ingrese los elementos a intercambiar\n",
      "\n",
      "Escriba el primer elemento10\n",
      "Escriba el segundo elemento7\n",
      "***Los elementos 10 y 7 han sido intercambiados***\n",
      "\n",
      "\n",
      "ROMPECABEZAS DEL MAPACHE\n",
      "\n",
      "Posiciones de las piezas\n",
      "\n",
      "[['1' '2' '3' '4']\n",
      " ['5' '6' '7' '8']\n",
      " ['12' '9' '11' '10']]\n",
      "\n",
      "Ingrese los elementos a intercambiar\n",
      "\n",
      "Escriba el primer elemento12\n",
      "Escriba el segundo elemento10\n",
      "***Los elementos 12 y 10 han sido intercambiados***\n",
      "\n",
      "\n",
      "ROMPECABEZAS DEL MAPACHE\n",
      "\n",
      "Posiciones de las piezas\n",
      "\n",
      "[['1' '2' '3' '4']\n",
      " ['5' '6' '7' '8']\n",
      " ['10' '9' '11' '12']]\n",
      "\n",
      "Ingrese los elementos a intercambiar\n",
      "\n",
      "Escriba el primer elemento10\n",
      "Escriba el segundo elemento9\n",
      "***Los elementos 10 y 9 han sido intercambiados***\n",
      "\n",
      "Rompecabezas Completado\n"
     ]
    }
   ],
   "source": [
    "def principal():\n",
    "    opcion = 0\n",
    "    tablero_pos = nuevo_tablero()\n",
    "    while(opcion < 5):\n",
    "        print(\"\\nROMPECABEZAS DEL MAPACHE\\n\")\n",
    "        print(\"Posiciones de las piezas\\n\")\n",
    "        print(np.matrix(tablero_pos))\n",
    "        print(\"\\nIngrese los elementos a intercambiar\\n\")\n",
    "        pos1 = input(\"Escriba el primer elemento\")\n",
    "        pos2 = input(\"Escriba el segundo elemento\")\n",
    "        try:\n",
    "            posicion1 = int(pos1)\n",
    "            posicion2 = int(pos2)\n",
    "            if(posicion1 > 0 and posicion1 < 13 and posicion2 > 0 and posicion2 < 13):\n",
    "                tablero_pos = intercambiarPosiciones(tablero_pos, pos1, pos2)\n",
    "                print(f\"\\n***Los elementos {posicion1} y {posicion2} han sido intercambiados***\\n\")\n",
    "                if(comprobarCompletado(tablero_pos)):\n",
    "                    print(\"Rompecabezas Completado\")\n",
    "                    opcion = 5\n",
    "            else:\n",
    "                print(\"***El elemento no esta en la lista***\\n\")\n",
    "        except Exception as error:\n",
    "            print(\"***Ingrese solo numeros***\\n\")\n",
    "principal()"
   ]
  }
 ],
 "metadata": {
  "kernelspec": {
   "display_name": "Python 3",
   "language": "python",
   "name": "python3"
  },
  "language_info": {
   "codemirror_mode": {
    "name": "ipython",
    "version": 3
   },
   "file_extension": ".py",
   "mimetype": "text/x-python",
   "name": "python",
   "nbconvert_exporter": "python",
   "pygments_lexer": "ipython3",
   "version": "3.7.3"
  }
 },
 "nbformat": 4,
 "nbformat_minor": 2
}
