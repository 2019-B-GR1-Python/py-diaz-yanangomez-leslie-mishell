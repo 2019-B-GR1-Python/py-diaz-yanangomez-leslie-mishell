{
 "cells": [
  {
   "cell_type": "code",
   "execution_count": 2,
   "metadata": {
    "scrolled": false
   },
   "outputs": [
    {
     "name": "stdout",
     "output_type": "stream",
     "text": [
      "Datos del actor: \n",
      "Nombre: Leonardo\n",
      "Apellido: Dicaprio\n",
      "Fecha de nacimiento: 15-03-1973\n",
      "Numero de peliculas: 0\n",
      "¿Esta retirado? No\n"
     ]
    }
   ],
   "source": [
    "# Clase Padre\n",
    "class Actor:\n",
    "    actor_id = None\n",
    "    nombre = None\n",
    "    apellido = None\n",
    "    fecha_nac = None\n",
    "    peliculas = []\n",
    "    numero_peliculas = len(peliculas)\n",
    "    retirado = False\n",
    "      \n",
    "    def __init__(self, actor_id, nombre, apellido, fecha_nac, retirado = False):\n",
    "        self.actor_id = actor_id\n",
    "        self.nombre = nombre\n",
    "        self.apellido = apellido\n",
    "        self.fecha_nac = fecha_nac\n",
    "        self.retirado = retirado\n",
    "        \n",
    "    def estaRetirado(self):\n",
    "        if self.retirado:\n",
    "            return \"Si\"\n",
    "        else:\n",
    "            return \"No\"\n",
    "    def nuevaPelicula(self, nueva_pelicula):\n",
    "        self.peliculas.append(nueva_pelicula)\n",
    "        self.numero_peliculas = len(self.peliculas)\n",
    "        return \"¡Nueva pelicula registrada!\"\n",
    "    \n",
    "    def __str__(self):\n",
    "        return (f\"Datos del actor: \\nNombre: {self.nombre}\\n\" +\n",
    "        f\"Apellido: {self.apellido}\\n\" +\n",
    "        f\"Fecha de nacimiento: {self.fecha_nac}\\n\" +\n",
    "        f\"Numero de peliculas: {self.numero_peliculas}\\n\" +\n",
    "        f\"¿Esta retirado? {self.estaRetirado()}\")\n",
    "\n",
    "actor_leo = Actor(1, \"Leonardo\", \"Dicaprio\", \"15-03-1973\")\n",
    "print(actor_leo)"
   ]
  },
  {
   "cell_type": "code",
   "execution_count": 3,
   "metadata": {},
   "outputs": [
    {
     "name": "stdout",
     "output_type": "stream",
     "text": [
      "Datos del la pelicula: \n",
      "Nombre: El renacido\n",
      "Año de lanzamiento: 2014\n",
      "Sinopsis: Sinopsis del renacido\n",
      "Rating: 5.3\n"
     ]
    }
   ],
   "source": [
    "# Clase Hijo\n",
    "class Pelicula:\n",
    "    pelicula_id = None\n",
    "    nombre = None\n",
    "    anio_lanzamiento = None\n",
    "    rating = 0\n",
    "    sinopsis = None\n",
    "      \n",
    "    def __init__(self, pelicula_id, nombre, anio_lanzamiento, sinopsis, rating = 0):\n",
    "        self.pelicula_id = pelicula_id\n",
    "        self.nombre = nombre\n",
    "        self.anio_lanzamiento = anio_lanzamiento\n",
    "        self.sinopsis = sinopsis\n",
    "        self.rating = rating\n",
    "    \n",
    "    def __str__(self):\n",
    "        return (f\"Datos del la pelicula: \\nNombre: {self.nombre}\\n\" +\n",
    "        f\"Año de lanzamiento: {self.anio_lanzamiento}\\n\" +\n",
    "        f\"Sinopsis: {self.sinopsis}\\n\" +\n",
    "        f\"Rating: {self.rating}\")\n",
    "\n",
    "pelicula_de_leo = Pelicula(1, \"El renacido\", 2014, \"Sinopsis del renacido\", 5.3)\n",
    "print(pelicula_de_leo)"
   ]
  },
  {
   "cell_type": "code",
   "execution_count": 30,
   "metadata": {},
   "outputs": [
    {
     "data": {
      "text/plain": [
       "'¡Nueva pelicula registrada!'"
      ]
     },
     "execution_count": 30,
     "metadata": {},
     "output_type": "execute_result"
    }
   ],
   "source": [
    "actor_leo.nuevaPelicula(pelicula_de_leo)"
   ]
  },
  {
   "cell_type": "code",
   "execution_count": 31,
   "metadata": {
    "scrolled": false
   },
   "outputs": [
    {
     "name": "stdout",
     "output_type": "stream",
     "text": [
      "Datos del actor: \n",
      "Nombre: Leonardo\n",
      "Apellido: Dicaprio\n",
      "Fecha de nacimiento: 15-03-1973\n",
      "Numero de peliculas: 2\n",
      "¿Esta retirado? No\n"
     ]
    }
   ],
   "source": [
    "print(actor_leo)"
   ]
  },
  {
   "cell_type": "markdown",
   "metadata": {},
   "source": [
    "### Interfaz Principal"
   ]
  },
  {
   "cell_type": "code",
   "execution_count": 13,
   "metadata": {
    "scrolled": true
   },
   "outputs": [],
   "source": [
    "def principal():\n",
    "    actores = [];\n",
    "    opcion = None\n",
    "    idActual = 1;\n",
    "    while(opcion != 0):\n",
    "        print(\"===========================\")\n",
    "        print(\"Gestion de Padres e Hijos\")\n",
    "        print(\"Escoge una opcion del menu:\")\n",
    "        print(\"1 - Crear nuevo actor\")\n",
    "        print(\"2 - Buscar Actor\")\n",
    "        print(\"3 - Listar Actores\")\n",
    "        print(\"0 - Salir\")\n",
    "        print(\"===========================\")\n",
    "        opcion = int(input(\"Digita un numero:\"))\n",
    "        print(\"===========================\")\n",
    "        if(opcion == 1):\n",
    "            nuevo = crear_actor(idActual)\n",
    "            actores.append(nuevo)\n",
    "            idActual = idActual + 1\n",
    "            print(\"Actor registrado con exito\")\n",
    "        elif(opcion == 2):\n",
    "            print(\"Buscar Actores\")\n",
    "        elif(opcion == 3):\n",
    "            if(len(actores) > 0):\n",
    "                for actor in actores:\n",
    "                    print(actor)\n",
    "            else:\n",
    "                print(\"No hay actores registrados\")\n",
    "        elif(opcion == 0):\n",
    "            print(\"Hasta la proxima\")\n",
    "        else:\n",
    "            print(\"Opcion no valida\")\n",
    "            opcion = 0"
   ]
  },
  {
   "cell_type": "code",
   "execution_count": 8,
   "metadata": {},
   "outputs": [],
   "source": [
    "def crear_actor(id_actual):\n",
    "    print(\"Completa los siguientes campos:\")\n",
    "    nombre = input(\"Nombre:\")\n",
    "    apellido = input(\"Apellido:\")\n",
    "    fecha_nac = input(\"Fecha de nacimiento:\")\n",
    "    nuevo_actor = Actor(id_actual,nombre,apellido,fecha_nac)\n",
    "    return nuevo_actor"
   ]
  },
  {
   "cell_type": "code",
   "execution_count": 10,
   "metadata": {
    "scrolled": true
   },
   "outputs": [
    {
     "name": "stdout",
     "output_type": "stream",
     "text": [
      "Gestion de Padres e Hijos\n",
      "Escoge una opcion del menu:\n",
      "1 - Crear nuevo actor\n",
      "2 - Buscar Actor\n",
      "3 - Listar Actores\n",
      "0 - Salir\n",
      "Digita un numero:1\n",
      "Completa los siguientes campos:\n",
      "Nombre:Leslie\n",
      "Apellido:Diaz\n",
      "Fecha de nacimiento:hoy\n",
      "Actor registrado con exito\n",
      "Adios\n",
      "Gestion de Padres e Hijos\n",
      "Escoge una opcion del menu:\n",
      "1 - Crear nuevo actor\n",
      "2 - Buscar Actor\n",
      "3 - Listar Actores\n",
      "0 - Salir\n",
      "Digita un numero:3\n",
      "Datos del actor: \n",
      "Nombre: Leslie\n",
      "Apellido: Diaz\n",
      "Fecha de nacimiento: hoy\n",
      "Numero de peliculas: 0\n",
      "¿Esta retirado? No\n",
      "Adios\n",
      "Gestion de Padres e Hijos\n",
      "Escoge una opcion del menu:\n",
      "1 - Crear nuevo actor\n",
      "2 - Buscar Actor\n",
      "3 - Listar Actores\n",
      "0 - Salir\n",
      "Digita un numero:0\n",
      "Hasta la proxima\n",
      "Adios\n"
     ]
    }
   ],
   "source": [
    "principal()"
   ]
  },
  {
   "cell_type": "code",
   "execution_count": 12,
   "metadata": {},
   "outputs": [
    {
     "name": "stdout",
     "output_type": "stream",
     "text": [
      "Gestion de Padres e Hijos\n",
      "Escoge una opcion del menu:\n",
      "1 - Crear nuevo actor\n",
      "2 - Buscar Actor\n",
      "3 - Listar Actores\n",
      "0 - Salir\n",
      "Digita un numero:1\n",
      "Completa los siguientes campos:\n",
      "Nombre:Leslie\n",
      "Apellido:Diaz\n",
      "Fecha de nacimiento:hoy\n",
      "Actor registrado con exito\n",
      "Gestion de Padres e Hijos\n",
      "Escoge una opcion del menu:\n",
      "1 - Crear nuevo actor\n",
      "2 - Buscar Actor\n",
      "3 - Listar Actores\n",
      "0 - Salir\n",
      "Digita un numero:1\n",
      "Completa los siguientes campos:\n",
      "Nombre:Manuel\n",
      "Apellido:Diaz\n",
      "Fecha de nacimiento:hoy\n",
      "Actor registrado con exito\n",
      "Gestion de Padres e Hijos\n",
      "Escoge una opcion del menu:\n",
      "1 - Crear nuevo actor\n",
      "2 - Buscar Actor\n",
      "3 - Listar Actores\n",
      "0 - Salir\n",
      "Digita un numero:1\n",
      "Completa los siguientes campos:\n",
      "Nombre:Carmen\n",
      "Apellido:Yanangomez\n",
      "Fecha de nacimiento:ayer\n",
      "Actor registrado con exito\n",
      "Gestion de Padres e Hijos\n",
      "Escoge una opcion del menu:\n",
      "1 - Crear nuevo actor\n",
      "2 - Buscar Actor\n",
      "3 - Listar Actores\n",
      "0 - Salir\n",
      "Digita un numero:3\n",
      "Datos del actor: \n",
      "Nombre: Leslie\n",
      "Apellido: Diaz\n",
      "Fecha de nacimiento: hoy\n",
      "Numero de peliculas: 0\n",
      "¿Esta retirado? No\n",
      "Datos del actor: \n",
      "Nombre: Manuel\n",
      "Apellido: Diaz\n",
      "Fecha de nacimiento: hoy\n",
      "Numero de peliculas: 0\n",
      "¿Esta retirado? No\n",
      "Datos del actor: \n",
      "Nombre: Carmen\n",
      "Apellido: Yanangomez\n",
      "Fecha de nacimiento: ayer\n",
      "Numero de peliculas: 0\n",
      "¿Esta retirado? No\n",
      "Gestion de Padres e Hijos\n",
      "Escoge una opcion del menu:\n",
      "1 - Crear nuevo actor\n",
      "2 - Buscar Actor\n",
      "3 - Listar Actores\n",
      "0 - Salir\n",
      "Digita un numero:0\n",
      "Hasta la proxima\n"
     ]
    }
   ],
   "source": [
    "principal()"
   ]
  },
  {
   "cell_type": "code",
   "execution_count": 14,
   "metadata": {
    "scrolled": true
   },
   "outputs": [
    {
     "name": "stdout",
     "output_type": "stream",
     "text": [
      "===========================\n",
      "Gestion de Padres e Hijos\n",
      "Escoge una opcion del menu:\n",
      "1 - Crear nuevo actor\n",
      "2 - Buscar Actor\n",
      "3 - Listar Actores\n",
      "0 - Salir\n",
      "===========================\n",
      "Digita un numero:1\n",
      "===========================\n",
      "Completa los siguientes campos:\n",
      "Nombre:Leslie\n",
      "Apellido:Diaz\n",
      "Fecha de nacimiento:Yanangomez\n",
      "Actor registrado con exito\n",
      "===========================\n",
      "Gestion de Padres e Hijos\n",
      "Escoge una opcion del menu:\n",
      "1 - Crear nuevo actor\n",
      "2 - Buscar Actor\n",
      "3 - Listar Actores\n",
      "0 - Salir\n",
      "===========================\n",
      "Digita un numero:0\n",
      "===========================\n",
      "Hasta la proxima\n"
     ]
    }
   ],
   "source": [
    "principal()"
   ]
  },
  {
   "cell_type": "code",
   "execution_count": null,
   "metadata": {},
   "outputs": [],
   "source": []
  }
 ],
 "metadata": {
  "kernelspec": {
   "display_name": "Python 3",
   "language": "python",
   "name": "python3"
  },
  "language_info": {
   "codemirror_mode": {
    "name": "ipython",
    "version": 3
   },
   "file_extension": ".py",
   "mimetype": "text/x-python",
   "name": "python",
   "nbconvert_exporter": "python",
   "pygments_lexer": "ipython3",
   "version": "3.7.3"
  }
 },
 "nbformat": 4,
 "nbformat_minor": 2
}
