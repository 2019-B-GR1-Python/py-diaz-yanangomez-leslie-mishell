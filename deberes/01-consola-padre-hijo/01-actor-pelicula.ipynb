{
 "cells": [
  {
   "cell_type": "code",
   "execution_count": 3,
   "metadata": {
    "scrolled": false
   },
   "outputs": [
    {
     "name": "stdout",
     "output_type": "stream",
     "text": [
      "Datos del actor: \n",
      "Nombre: Leonardo\n",
      "Identificador: 1\n",
      "Apellido: Dicaprio\n",
      "Fecha de nacimiento: 15-03-1973\n",
      "Numero de peliculas: 0\n",
      "¿Esta retirado? No\n"
     ]
    }
   ],
   "source": [
    "# Clase Padre\n",
    "class Actor:\n",
    "    actor_id = None\n",
    "    nombre = None\n",
    "    apellido = None\n",
    "    fecha_nac = None\n",
    "    peliculas = []\n",
    "    numero_peliculas = len(peliculas)\n",
    "    retirado = False\n",
    "      \n",
    "    def __init__(self, actor_id, nombre, apellido, fecha_nac, retirado = False):\n",
    "        self.actor_id = actor_id\n",
    "        self.nombre = nombre\n",
    "        self.apellido = apellido\n",
    "        self.fecha_nac = fecha_nac\n",
    "        self.retirado = retirado\n",
    "        \n",
    "    def get_id(self):\n",
    "        return f\"{self.actor_id}\"\n",
    "    \n",
    "    def get_nombre(self):\n",
    "        return f\"{self.nombre}\"\n",
    "    \n",
    "    def estaRetirado(self):\n",
    "        if self.retirado:\n",
    "            return \"Si\"\n",
    "        else:\n",
    "            return \"No\"\n",
    "    def nuevaPelicula(self, nueva_pelicula):\n",
    "        self.peliculas.append(nueva_pelicula)\n",
    "        self.numero_peliculas = len(self.peliculas)\n",
    "        return \"¡Nueva pelicula registrada!\"\n",
    "    \n",
    "    def __str__(self):\n",
    "        return (f\"Datos del actor: \\nNombre: {self.nombre}\\n\" +\n",
    "        f\"Identificador: {self.actor_id}\\n\" +        \n",
    "        f\"Apellido: {self.apellido}\\n\" +\n",
    "        f\"Fecha de nacimiento: {self.fecha_nac}\\n\" +\n",
    "        f\"Numero de peliculas: {self.numero_peliculas}\\n\" +\n",
    "        f\"¿Esta retirado? {self.estaRetirado()}\")\n",
    "\n",
    "actor_leo = Actor(1, \"Leonardo\", \"Dicaprio\", \"15-03-1973\")\n",
    "print(actor_leo)"
   ]
  },
  {
   "cell_type": "code",
   "execution_count": 4,
   "metadata": {},
   "outputs": [
    {
     "name": "stdout",
     "output_type": "stream",
     "text": [
      "Datos del la pelicula: \n",
      "Nombre: El renacido\n",
      "Año de lanzamiento: 2014\n",
      "Sinopsis: Sinopsis del renacido\n",
      "Rating: 5.3\n"
     ]
    }
   ],
   "source": [
    "# Clase Hijo\n",
    "class Pelicula:\n",
    "    pelicula_id = None\n",
    "    nombre = None\n",
    "    anio_lanzamiento = None\n",
    "    rating = 0\n",
    "    sinopsis = None\n",
    "      \n",
    "    def __init__(self, pelicula_id, nombre, anio_lanzamiento, sinopsis, rating = 0):\n",
    "        self.pelicula_id = pelicula_id\n",
    "        self.nombre = nombre\n",
    "        self.anio_lanzamiento = anio_lanzamiento\n",
    "        self.sinopsis = sinopsis\n",
    "        self.rating = rating\n",
    "    \n",
    "    def __str__(self):\n",
    "        return (f\"Datos del la pelicula: \\nNombre: {self.nombre}\\n\" +\n",
    "        f\"Año de lanzamiento: {self.anio_lanzamiento}\\n\" +\n",
    "        f\"Sinopsis: {self.sinopsis}\\n\" +\n",
    "        f\"Rating: {self.rating}\")\n",
    "\n",
    "pelicula_de_leo = Pelicula(1, \"El renacido\", 2014, \"Sinopsis del renacido\", 5.3)\n",
    "print(pelicula_de_leo)"
   ]
  },
  {
   "cell_type": "code",
   "execution_count": 5,
   "metadata": {},
   "outputs": [
    {
     "data": {
      "text/plain": [
       "'¡Nueva pelicula registrada!'"
      ]
     },
     "execution_count": 5,
     "metadata": {},
     "output_type": "execute_result"
    }
   ],
   "source": [
    "actor_leo.nuevaPelicula(pelicula_de_leo)"
   ]
  },
  {
   "cell_type": "code",
   "execution_count": 6,
   "metadata": {
    "scrolled": false
   },
   "outputs": [
    {
     "name": "stdout",
     "output_type": "stream",
     "text": [
      "Datos del actor: \n",
      "Nombre: Leonardo\n",
      "Identificador: 1\n",
      "Apellido: Dicaprio\n",
      "Fecha de nacimiento: 15-03-1973\n",
      "Numero de peliculas: 1\n",
      "¿Esta retirado? No\n"
     ]
    }
   ],
   "source": [
    "print(actor_leo)"
   ]
  },
  {
   "cell_type": "markdown",
   "metadata": {},
   "source": [
    "### Interfaz Principal"
   ]
  },
  {
   "cell_type": "code",
   "execution_count": 7,
   "metadata": {
    "scrolled": true
   },
   "outputs": [],
   "source": [
    "def principal():\n",
    "    actores = []\n",
    "    opcion = None\n",
    "    idActual = 1\n",
    "    while(opcion != 0):\n",
    "        print(\"===========================\")\n",
    "        print(\"Gestion de Padres e Hijos\")\n",
    "        print(\"Escoge una opcion del menu:\")\n",
    "        print(\"1 - Crear nuevo actor\")\n",
    "        print(\"2 - Buscar Actor\")\n",
    "        print(\"3 - Listar Actores\")\n",
    "        print(\"0 - Salir\")\n",
    "        print(\"===========================\")\n",
    "        opcion = int(input(\"Digita un numero:\"))\n",
    "        print(\"===========================\")\n",
    "        if(opcion == 1):\n",
    "            nuevo = crear_actor(idActual)\n",
    "            actores.append(nuevo)\n",
    "            idActual = idActual + 1\n",
    "            print(\"Actor registrado con exito\")\n",
    "        elif(opcion == 2):\n",
    "            buscar_actor(actores)\n",
    "        elif(opcion == 3):\n",
    "            if(len(actores) > 0):\n",
    "                for actor in actores:\n",
    "                    print(actor)\n",
    "            else:\n",
    "                print(\"No hay actores registrados\")\n",
    "        elif(opcion == 0):\n",
    "            print(\"Hasta la proxima\")\n",
    "        else:\n",
    "            print(\"Opcion no valida\")\n",
    "            opcion = 0"
   ]
  },
  {
   "cell_type": "code",
   "execution_count": 8,
   "metadata": {},
   "outputs": [],
   "source": [
    "def buscar_actor(actores):\n",
    "    def buscar_por_id():\n",
    "        actor_id = input(\"Ingresa el id del actor: \")\n",
    "        for actor in actores:\n",
    "            if(actor.get_id() == actor_id):\n",
    "                return actor\n",
    "            else:\n",
    "                return None\n",
    "    def buscar_por_nombre():\n",
    "        nombre_actor = input(\"Ingresa el nombre del actor: \")\n",
    "        coincidentes = []\n",
    "        for actor in actores:\n",
    "            if(actor.get_nombre() == nombre_actor):\n",
    "                coincidentes.append(actor)\n",
    "        return coincidentes\n",
    "    print(\"Selecciona una de las siguientes opciones:\")\n",
    "    print(\"1 - Buscar por id\")\n",
    "    print(\"2 - Buscar por nombre\")\n",
    "    print(\"0 - Regresar al menu anterior\")\n",
    "    opcion = input(\"Opción seleccionada:\")\n",
    "    if (opcion == \"1\"):\n",
    "        coincidencia = buscar_por_id()\n",
    "        if (coincidencia):\n",
    "            print(coincidencia)\n",
    "        else:\n",
    "            print(\"No existen resultados\")\n",
    "    elif(opcion == \"2\"):\n",
    "        coincidencias = buscar_por_nombre()\n",
    "        if (len(coincidencias) > 0):\n",
    "            for actor in coincidencias:\n",
    "                print(actor)\n",
    "        else:\n",
    "            print(\"No existen resultados\")"
   ]
  },
  {
   "cell_type": "code",
   "execution_count": 9,
   "metadata": {},
   "outputs": [],
   "source": [
    "def crear_actor(id_actual):\n",
    "    print(\"*******************************\")\n",
    "    print(\"Completa los siguientes campos:\")\n",
    "    nombre = input(\"Nombre:\")\n",
    "    apellido = input(\"Apellido:\")\n",
    "    fecha_nac = input(\"Fecha de nacimiento:\")\n",
    "    print(\"*******************************\")\n",
    "    nuevo_actor = Actor(id_actual,nombre,apellido,fecha_nac)\n",
    "    return nuevo_actor"
   ]
  },
  {
   "cell_type": "code",
   "execution_count": 10,
   "metadata": {},
   "outputs": [
    {
     "name": "stdout",
     "output_type": "stream",
     "text": [
      "===========================\n",
      "Gestion de Padres e Hijos\n",
      "Escoge una opcion del menu:\n",
      "1 - Crear nuevo actor\n",
      "2 - Buscar Actor\n",
      "3 - Listar Actores\n",
      "0 - Salir\n",
      "===========================\n",
      "Digita un numero:1\n",
      "===========================\n",
      "*******************************\n",
      "Completa los siguientes campos:\n",
      "Nombre:Leo\n",
      "Apellido:Dicaprio\n",
      "Fecha de nacimiento:Hoy\n",
      "*******************************\n",
      "Actor registrado con exito\n",
      "===========================\n",
      "Gestion de Padres e Hijos\n",
      "Escoge una opcion del menu:\n",
      "1 - Crear nuevo actor\n",
      "2 - Buscar Actor\n",
      "3 - Listar Actores\n",
      "0 - Salir\n",
      "===========================\n",
      "Digita un numero:2\n",
      "===========================\n",
      "Selecciona una de las siguientes opciones:\n",
      "1 - Buscar por id\n",
      "2 - Buscar por nombre\n",
      "0 - Regresar al menu anterior\n",
      "Opción seleccionada:1\n",
      "Ingresa el id del actor: 1\n",
      "<bound method Actor.get_id of <__main__.Actor object at 0x000000000500E668>>\n",
      "1\n",
      "Datos del actor: \n",
      "Nombre: Leo\n",
      "Identificador: 1\n",
      "Apellido: Dicaprio\n",
      "Fecha de nacimiento: Hoy\n",
      "Numero de peliculas: 0\n",
      "¿Esta retirado? No\n",
      "===========================\n",
      "Gestion de Padres e Hijos\n",
      "Escoge una opcion del menu:\n",
      "1 - Crear nuevo actor\n",
      "2 - Buscar Actor\n",
      "3 - Listar Actores\n",
      "0 - Salir\n",
      "===========================\n",
      "Digita un numero:2\n",
      "===========================\n",
      "Selecciona una de las siguientes opciones:\n",
      "1 - Buscar por id\n",
      "2 - Buscar por nombre\n",
      "0 - Regresar al menu anterior\n",
      "Opción seleccionada:1\n",
      "Ingresa el id del actor: 2\n",
      "<bound method Actor.get_id of <__main__.Actor object at 0x000000000500E668>>\n",
      "2\n",
      "No existen resultados\n",
      "===========================\n",
      "Gestion de Padres e Hijos\n",
      "Escoge una opcion del menu:\n",
      "1 - Crear nuevo actor\n",
      "2 - Buscar Actor\n",
      "3 - Listar Actores\n",
      "0 - Salir\n",
      "===========================\n",
      "Digita un numero:2\n",
      "===========================\n",
      "Selecciona una de las siguientes opciones:\n",
      "1 - Buscar por id\n",
      "2 - Buscar por nombre\n",
      "0 - Regresar al menu anterior\n",
      "Opción seleccionada:2\n",
      "Ingresa el nombre del actor: Leo\n",
      "Datos del actor: \n",
      "Nombre: Leo\n",
      "Identificador: 1\n",
      "Apellido: Dicaprio\n",
      "Fecha de nacimiento: Hoy\n",
      "Numero de peliculas: 0\n",
      "¿Esta retirado? No\n",
      "===========================\n",
      "Gestion de Padres e Hijos\n",
      "Escoge una opcion del menu:\n",
      "1 - Crear nuevo actor\n",
      "2 - Buscar Actor\n",
      "3 - Listar Actores\n",
      "0 - Salir\n",
      "===========================\n",
      "Digita un numero:2\n",
      "===========================\n",
      "Selecciona una de las siguientes opciones:\n",
      "1 - Buscar por id\n",
      "2 - Buscar por nombre\n",
      "0 - Regresar al menu anterior\n",
      "Opción seleccionada:2\n",
      "Ingresa el nombre del actor: Yo\n",
      "No existen resultados\n",
      "===========================\n",
      "Gestion de Padres e Hijos\n",
      "Escoge una opcion del menu:\n",
      "1 - Crear nuevo actor\n",
      "2 - Buscar Actor\n",
      "3 - Listar Actores\n",
      "0 - Salir\n",
      "===========================\n",
      "Digita un numero:0\n",
      "===========================\n",
      "Hasta la proxima\n"
     ]
    }
   ],
   "source": [
    "principal()"
   ]
  },
  {
   "cell_type": "code",
   "execution_count": null,
   "metadata": {},
   "outputs": [],
   "source": []
  }
 ],
 "metadata": {
  "kernelspec": {
   "display_name": "Python 3",
   "language": "python",
   "name": "python3"
  },
  "language_info": {
   "codemirror_mode": {
    "name": "ipython",
    "version": 3
   },
   "file_extension": ".py",
   "mimetype": "text/x-python",
   "name": "python",
   "nbconvert_exporter": "python",
   "pygments_lexer": "ipython3",
   "version": "3.7.3"
  }
 },
 "nbformat": 4,
 "nbformat_minor": 2
}
