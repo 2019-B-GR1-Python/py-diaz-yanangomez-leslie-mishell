{
 "cells": [
  {
   "cell_type": "code",
   "execution_count": 1,
   "metadata": {},
   "outputs": [],
   "source": [
    "import numpy as np"
   ]
  },
  {
   "cell_type": "code",
   "execution_count": 2,
   "metadata": {},
   "outputs": [],
   "source": [
    "paises_suramerica = [\"Ecuador\", \"Colombia\", \"Brazil\", \"Argentina\"]"
   ]
  },
  {
   "cell_type": "code",
   "execution_count": 3,
   "metadata": {},
   "outputs": [],
   "source": [
    "paises_asia = [\"Japon\", \"China\", \"Corea del Sur\", \"Tailandia\"]"
   ]
  },
  {
   "cell_type": "code",
   "execution_count": 4,
   "metadata": {},
   "outputs": [
    {
     "data": {
      "text/plain": [
       "array([['Ecuador', 'Colombia', 'Brazil', 'Argentina'],\n",
       "       ['Japon', 'China', 'Corea del Sur', 'Tailandia']], dtype='<U13')"
      ]
     },
     "execution_count": 4,
     "metadata": {},
     "output_type": "execute_result"
    }
   ],
   "source": [
    "arreglo_paises_2d = np.array([paises_suramerica, paises_asia])\n",
    "arreglo_paises_2d"
   ]
  },
  {
   "cell_type": "code",
   "execution_count": 11,
   "metadata": {},
   "outputs": [
    {
     "data": {
      "text/plain": [
       "(2, 4)"
      ]
     },
     "execution_count": 11,
     "metadata": {},
     "output_type": "execute_result"
    }
   ],
   "source": [
    "arreglo_paises_2d.shape"
   ]
  },
  {
   "cell_type": "code",
   "execution_count": 13,
   "metadata": {},
   "outputs": [
    {
     "data": {
      "text/plain": [
       "array(['Ecuador', 'Colombia', 'Brazil', 'Argentina', 'Japon', 'China',\n",
       "       'Corea del Sur', 'Tailandia'], dtype='<U13')"
      ]
     },
     "execution_count": 13,
     "metadata": {},
     "output_type": "execute_result"
    }
   ],
   "source": [
    "arreglo_paises_2d.reshape(8)"
   ]
  },
  {
   "cell_type": "code",
   "execution_count": 14,
   "metadata": {},
   "outputs": [
    {
     "data": {
      "text/plain": [
       "array(['Ecuador', 'Colombia', 'Brazil', 'Argentina', 'Japon', 'China',\n",
       "       'Corea del Sur', 'Tailandia'], dtype='<U13')"
      ]
     },
     "execution_count": 14,
     "metadata": {},
     "output_type": "execute_result"
    }
   ],
   "source": [
    "arreglo_paises_2d.flatten() # Aplanar, se hace un array unidimensional"
   ]
  },
  {
   "cell_type": "code",
   "execution_count": 15,
   "metadata": {},
   "outputs": [
    {
     "data": {
      "text/plain": [
       "array([[['Ecuador', 'Colombia'],\n",
       "        ['Brazil', 'Argentina']],\n",
       "\n",
       "       [['Japon', 'China'],\n",
       "        ['Corea del Sur', 'Tailandia']]], dtype='<U13')"
      ]
     },
     "execution_count": 15,
     "metadata": {},
     "output_type": "execute_result"
    }
   ],
   "source": [
    "arreglo_paises_2d.flatten().reshape(2,2,2)"
   ]
  },
  {
   "cell_type": "code",
   "execution_count": 17,
   "metadata": {},
   "outputs": [
    {
     "data": {
      "text/plain": [
       "array([['Ecuador', 'Colombia'],\n",
       "       ['Brazil', 'Argentina'],\n",
       "       ['Japon', 'China'],\n",
       "       ['Corea del Sur', 'Tailandia']], dtype='<U13')"
      ]
     },
     "execution_count": 17,
     "metadata": {},
     "output_type": "execute_result"
    }
   ],
   "source": [
    "arreglo_paises_2d.flatten().reshape(4,-1) ## El -1 indica que los espacios de la matriz se llenen como pueda (si existieran o no)"
   ]
  },
  {
   "cell_type": "code",
   "execution_count": 18,
   "metadata": {},
   "outputs": [
    {
     "data": {
      "text/plain": [
       "array([['Ecuador', 'Colombia', 'Brazil', 'Argentina'],\n",
       "       ['Japon', 'China', 'Corea del Sur', 'Tailandia']], dtype='<U13')"
      ]
     },
     "execution_count": 18,
     "metadata": {},
     "output_type": "execute_result"
    }
   ],
   "source": [
    "arreglo_paises_2d.flatten().reshape(-1,4)"
   ]
  },
  {
   "cell_type": "code",
   "execution_count": 19,
   "metadata": {},
   "outputs": [
    {
     "data": {
      "text/plain": [
       "array([[['Ecuador', 'Colombia'],\n",
       "        ['Brazil', 'Argentina']],\n",
       "\n",
       "       [['Japon', 'China'],\n",
       "        ['Corea del Sur', 'Tailandia']]], dtype='<U13')"
      ]
     },
     "execution_count": 19,
     "metadata": {},
     "output_type": "execute_result"
    }
   ],
   "source": [
    "arreglo_paises_2d.flatten().reshape(\n",
    "2, # -1 -> 2\n",
    "2, # 2 -> -1\n",
    "-1) # Comodin: pone los elementos que sobren de la matriz en esa dimensión"
   ]
  },
  {
   "cell_type": "markdown",
   "metadata": {},
   "source": [
    "#### Transpuesta"
   ]
  },
  {
   "cell_type": "code",
   "execution_count": 22,
   "metadata": {},
   "outputs": [
    {
     "name": "stdout",
     "output_type": "stream",
     "text": [
      "[['Ecuador' 'Colombia' 'Brazil' 'Argentina']\n",
      " ['Japon' 'China' 'Corea del Sur' 'Tailandia']]\n",
      "(2, 4)\n",
      "[['Ecuador' 'Japon']\n",
      " ['Colombia' 'China']\n",
      " ['Brazil' 'Corea del Sur']\n",
      " ['Argentina' 'Tailandia']]\n",
      "(4, 2)\n"
     ]
    }
   ],
   "source": [
    "print(arreglo_paises_2d)\n",
    "print(arreglo_paises_2d.shape)\n",
    "print(arreglo_paises_2d.T)\n",
    "print(arreglo_paises_2d.T.shape)"
   ]
  },
  {
   "cell_type": "code",
   "execution_count": 24,
   "metadata": {},
   "outputs": [
    {
     "data": {
      "text/plain": [
       "[array([['Ecuador', 'Colombia', 'Brazil', 'Argentina']], dtype='<U13'),\n",
       " array([['Japon', 'China', 'Corea del Sur', 'Tailandia']], dtype='<U13')]"
      ]
     },
     "execution_count": 24,
     "metadata": {},
     "output_type": "execute_result"
    }
   ],
   "source": [
    "np.split(arreglo_paises_2d,2) # Divide el arreglo en 2 partes iguales"
   ]
  },
  {
   "cell_type": "code",
   "execution_count": 25,
   "metadata": {},
   "outputs": [
    {
     "data": {
      "text/plain": [
       "[array(['Ecuador'], dtype='<U13'),\n",
       " array(['Colombia'], dtype='<U13'),\n",
       " array(['Brazil'], dtype='<U13'),\n",
       " array(['Argentina'], dtype='<U13'),\n",
       " array(['Japon'], dtype='<U13'),\n",
       " array(['China'], dtype='<U13'),\n",
       " array(['Corea del Sur'], dtype='<U13'),\n",
       " array(['Tailandia'], dtype='<U13')]"
      ]
     },
     "execution_count": 25,
     "metadata": {},
     "output_type": "execute_result"
    }
   ],
   "source": [
    "np.split(arreglo_paises_2d.flatten(), 8)"
   ]
  },
  {
   "cell_type": "code",
   "execution_count": 26,
   "metadata": {},
   "outputs": [
    {
     "data": {
      "text/plain": [
       "[array(['Ecuador', 'Colombia'], dtype='<U13'),\n",
       " array(['Brazil', 'Argentina'], dtype='<U13'),\n",
       " array(['Japon', 'China'], dtype='<U13'),\n",
       " array(['Corea del Sur', 'Tailandia'], dtype='<U13')]"
      ]
     },
     "execution_count": 26,
     "metadata": {},
     "output_type": "execute_result"
    }
   ],
   "source": [
    "np.split(arreglo_paises_2d.flatten(), 4)"
   ]
  },
  {
   "cell_type": "code",
   "execution_count": 27,
   "metadata": {},
   "outputs": [
    {
     "data": {
      "text/plain": [
       "[array(['Ecuador', 'Colombia', 'Brazil', 'Argentina', 'Japon', 'China',\n",
       "        'Corea del Sur', 'Tailandia'], dtype='<U13')]"
      ]
     },
     "execution_count": 27,
     "metadata": {},
     "output_type": "execute_result"
    }
   ],
   "source": [
    "np.split(arreglo_paises_2d.flatten(), 1)"
   ]
  },
  {
   "cell_type": "markdown",
   "metadata": {},
   "source": [
    "#### Division arreglo partes no uniformes"
   ]
  },
  {
   "cell_type": "code",
   "execution_count": 28,
   "metadata": {},
   "outputs": [
    {
     "data": {
      "text/plain": [
       "[array(['Ecuador'], dtype='<U13'),\n",
       " array(['Colombia', 'Brazil'], dtype='<U13'),\n",
       " array(['Argentina', 'Japon', 'China'], dtype='<U13'),\n",
       " array(['Corea del Sur'], dtype='<U13'),\n",
       " array(['Tailandia'], dtype='<U13')]"
      ]
     },
     "execution_count": 28,
     "metadata": {},
     "output_type": "execute_result"
    }
   ],
   "source": [
    "np.split(arreglo_paises_2d.flatten(), [\n",
    "    1, # Toma desde el inicio hasta el 1\n",
    "    3, # Toma del 1 hasta el 3\n",
    "    6, # Toma del 3 hasta el 6\n",
    "    7]) # Toma del 7 en adelante"
   ]
  },
  {
   "cell_type": "markdown",
   "metadata": {},
   "source": [
    "#### Split en numpy horizontalmente"
   ]
  },
  {
   "cell_type": "code",
   "execution_count": 32,
   "metadata": {},
   "outputs": [
    {
     "name": "stdout",
     "output_type": "stream",
     "text": [
      "[['Ecuador']\n",
      " ['Japon']]\n",
      "(2, 1)\n",
      "[['Colombia']\n",
      " ['China']]\n",
      "(2, 1)\n",
      "[['Brazil']\n",
      " ['Corea del Sur']]\n",
      "(2, 1)\n",
      "[['Argentina']\n",
      " ['Tailandia']]\n",
      "(2, 1)\n"
     ]
    }
   ],
   "source": [
    "arr1, arr2, arr3, arr4 = np.hsplit(arreglo_paises_2d, 4)\n",
    "print(arr1)\n",
    "print(arr1.shape)\n",
    "print(arr2)\n",
    "print(arr2.shape)\n",
    "print(arr3)\n",
    "print(arr3.shape)\n",
    "print(arr4)\n",
    "print(arr4.shape)"
   ]
  },
  {
   "cell_type": "markdown",
   "metadata": {},
   "source": [
    "#### Split en numpy verticalmente"
   ]
  },
  {
   "cell_type": "code",
   "execution_count": 34,
   "metadata": {},
   "outputs": [
    {
     "name": "stdout",
     "output_type": "stream",
     "text": [
      "[['Ecuador' 'Colombia']\n",
      " ['Japon' 'China']]\n",
      "(2, 2)\n",
      "[['Brazil' 'Argentina']\n",
      " ['Corea del Sur' 'Tailandia']]\n",
      "(2, 2)\n"
     ]
    }
   ],
   "source": [
    "arr1, arr2 = np.hsplit(arreglo_paises_2d, 2) \n",
    "print(arr1)\n",
    "print(arr1.shape)\n",
    "print(arr2)\n",
    "print(arr2.shape)"
   ]
  },
  {
   "cell_type": "code",
   "execution_count": 36,
   "metadata": {},
   "outputs": [
    {
     "name": "stdout",
     "output_type": "stream",
     "text": [
      "papa\n"
     ]
    }
   ],
   "source": [
    "# al poner las variables se reasignan \n",
    "# los resultados a las variables\n",
    "a, b, c = [\"mama\", \"papa\", \"hijos\"]\n",
    "print(b)"
   ]
  },
  {
   "cell_type": "code",
   "execution_count": null,
   "metadata": {},
   "outputs": [],
   "source": []
  },
  {
   "cell_type": "code",
   "execution_count": null,
   "metadata": {},
   "outputs": [],
   "source": []
  }
 ],
 "metadata": {
  "kernelspec": {
   "display_name": "Python 3",
   "language": "python",
   "name": "python3"
  },
  "language_info": {
   "codemirror_mode": {
    "name": "ipython",
    "version": 3
   },
   "file_extension": ".py",
   "mimetype": "text/x-python",
   "name": "python",
   "nbconvert_exporter": "python",
   "pygments_lexer": "ipython3",
   "version": "3.7.4"
  }
 },
 "nbformat": 4,
 "nbformat_minor": 2
}
