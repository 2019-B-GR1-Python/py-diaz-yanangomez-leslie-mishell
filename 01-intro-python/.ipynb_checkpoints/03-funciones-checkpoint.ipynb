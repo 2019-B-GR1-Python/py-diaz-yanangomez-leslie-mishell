{
 "cells": [
  {
   "cell_type": "code",
   "execution_count": 10,
   "metadata": {},
   "outputs": [
    {
     "name": "stdout",
     "output_type": "stream",
     "text": [
      "Jai\n",
      "None\n"
     ]
    }
   ],
   "source": [
    "#  FUNCIONES\n",
    "def hola_mundo(): #  Funciones 'void' retornan None\n",
    "    print('Jai')\n",
    "    \n",
    "a = hola_mundo()\n",
    "print(a)"
   ]
  },
  {
   "cell_type": "code",
   "execution_count": 8,
   "metadata": {},
   "outputs": [
    {
     "name": "stdout",
     "output_type": "stream",
     "text": [
      "Respuesta suma: 3\n"
     ]
    }
   ],
   "source": [
    "#  FUNCIONES CON ARGUMENTOS REQUERIDOS (PARAMETROS)\n",
    "def sumar_dos_numeros(num_uno, num_dos):\n",
    "    return num_uno + num_dos\n",
    "res_suma = sumar_dos_numeros(1,2)\n",
    "print(f'Respuesta suma: {res_suma}') \n",
    "#  Template String utilizamos f para utilizar cualquier tipo de variable \n",
    "#  en el string\n"
   ]
  },
  {
   "cell_type": "code",
   "execution_count": 12,
   "metadata": {},
   "outputs": [
    {
     "name": "stdout",
     "output_type": "stream",
     "text": [
      "Poli\n"
     ]
    }
   ],
   "source": [
    "# FUNCIONES CON ARGUMENTOS OPCIONALES (PARAMETROS)\n",
    "def imprimir_universidad(nombre = 'EPN'):\n",
    "    print(f'{nombre}')\n",
    "imprimir_universidad('Poli')"
   ]
  },
  {
   "cell_type": "code",
   "execution_count": 14,
   "metadata": {},
   "outputs": [
    {
     "name": "stdout",
     "output_type": "stream",
     "text": [
      "Color: Gris\n",
      "Placa: IG375\n",
      "Caballos de Fuerza: 2000\n",
      "Año: 2006\n",
      "Color: Gris\n",
      "Placa: IG375\n",
      "Caballos de Fuerza: 2006\n",
      "Año: 2000\n"
     ]
    }
   ],
   "source": [
    "# FUNCIONES CON ARGUMENTOS NOMBRADOS (PARAMETROS)\n",
    "def imprimir_carro(color, placa, caballos_fuerza, anio = 1990):\n",
    "    print(f'Color: {color}')\n",
    "    print(f'Placa: {placa}')\n",
    "    print(f'Caballos de Fuerza: {caballos_fuerza}')\n",
    "    print(f'Año: {anio}')\n",
    "    \n",
    "# Parametro por posicion\n",
    "imprimir_carro('Gris', 'IG375', 2000, 2006)\n",
    "#Parametro nombrado\n",
    "imprimir_carro(color = 'Gris', anio= 2000, caballos_fuerza = 2006, placa ='IG375')\n",
    "\n",
    "# Reglas\n",
    "# 1. Los paramatros opcionales siempre van despues de los parametros requeridos\n",
    "# 2. Enviar SIEMPRE parametros requeridos (todos!!)\n",
    "# 3. Los parametros que continuen despues de un parametros nombrado, \n",
    "#    deben ser tambien nombrados"
   ]
  },
  {
   "cell_type": "code",
   "execution_count": 18,
   "metadata": {},
   "outputs": [
    {
     "data": {
      "text/plain": [
       "34"
      ]
     },
     "execution_count": 18,
     "metadata": {},
     "output_type": "execute_result"
    }
   ],
   "source": [
    "# FUNCIONES CON PARAMETROS INFINITOS? (Que en realidad son tuplas -- de pref poner al final)\n",
    "def sumar_numeros(num_uno, *numeros):\n",
    "    longitud = len(numeros)\n",
    "    if (longitud == 0):\n",
    "        return num_uno\n",
    "    else:\n",
    "        suma = num_uno\n",
    "        for numero in numeros:\n",
    "            suma = suma + numero\n",
    "        return suma\n",
    "\n",
    "sumar_numeros(1,2,3,4,5,6,13)"
   ]
  },
  {
   "cell_type": "code",
   "execution_count": 22,
   "metadata": {},
   "outputs": [
    {
     "name": "stdout",
     "output_type": "stream",
     "text": [
      "<class 'dict'>\n",
      "{'tiempo_espera': 10, 'saldo': 150, 'cajero': 'El de aqui'}\n"
     ]
    }
   ],
   "source": [
    "# FUNCIONES CON PARAMETROS KEYWORD (Que en realidad son diccionarios)\n",
    "def imprimir_configuracion(nombre, valor = 10, *valores_carga, **key_word_arguments):\n",
    "    print (type(key_word_arguments))\n",
    "    print(key_word_arguments)\n",
    "\n",
    "imprimir_configuracion(nombre='config-1',valor=0, tiempo_espera=10, saldo=150, cajero='El de aqui')\n",
    "# Los parametros nombrados que no estan definidos en la funcion,\n",
    "# cuando se utiliza un diccionario (**keyword-argument), son guardados en ese."
   ]
  },
  {
   "cell_type": "code",
   "execution_count": null,
   "metadata": {},
   "outputs": [],
   "source": []
  }
 ],
 "metadata": {
  "kernelspec": {
   "display_name": "Python 3",
   "language": "python",
   "name": "python3"
  },
  "language_info": {
   "codemirror_mode": {
    "name": "ipython",
    "version": 3
   },
   "file_extension": ".py",
   "mimetype": "text/x-python",
   "name": "python",
   "nbconvert_exporter": "python",
   "pygments_lexer": "ipython3",
   "version": "3.7.3"
  }
 },
 "nbformat": 4,
 "nbformat_minor": 2
}
