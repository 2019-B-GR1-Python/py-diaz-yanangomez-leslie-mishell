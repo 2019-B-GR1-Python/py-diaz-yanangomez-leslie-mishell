{
 "cells": [
  {
   "cell_type": "code",
   "execution_count": 1,
   "metadata": {},
   "outputs": [
    {
     "name": "stdout",
     "output_type": "stream",
     "text": [
      "Hola\n"
     ]
    }
   ],
   "source": [
    "print(\"Hola\");"
   ]
  },
  {
   "cell_type": "code",
   "execution_count": 2,
   "metadata": {},
   "outputs": [
    {
     "name": "stdout",
     "output_type": "stream",
     "text": [
      "<class 'int'>\n",
      "<class 'float'>\n",
      "<class 'str'>\n",
      "<class 'str'>\n",
      "<class 'bool'>\n",
      "<class 'bool'>\n",
      "<class 'NoneType'>\n"
     ]
    }
   ],
   "source": [
    "# Variables Primitivas\n",
    "entero = 3\n",
    "decimal = 1.1\n",
    "nombre = \"Leslie\"\n",
    "segundo_nombre = 'Mishell'  # Se puede utilizar comillas simples o dobles\n",
    "casado = False\n",
    "estudiante = True\n",
    "hijos = None  # Reemplaza al null\n",
    "print(type(entero))  # int\n",
    "print(type(decimal))  # float\n",
    "print(type(nombre))  # str\n",
    "print(type(segundo_nombre))  # str\n",
    "print(type(casado))  # bool\n",
    "print(type(estudiante))  # bool\n",
    "print(type(hijos))  # NoneType\n",
    "\"\"\"\n",
    "Bloque de comentario\n",
    "Nombre: Leslie\n",
    "Apellido: Diaz\n",
    "\n",
    "\"\"\""
   ]
  },
  {
   "cell_type": "code",
   "execution_count": 7,
   "metadata": {},
   "outputs": [
    {
     "name": "stdout",
     "output_type": "stream",
     "text": [
      "<class 'tuple'>\n",
      "<class 'list'>\n",
      "<class 'dict'>\n",
      "Falsy\n",
      "Truty\n",
      "Falsy\n",
      "Truty\n",
      "Truty\n",
      "Falsy\n",
      "Truty\n",
      "Truty\n",
      "Truty\n"
     ]
    }
   ],
   "source": [
    "# Condicion (Bool)\n",
    "# Truty\n",
    "# Falsy\n",
    "tuplas = ()\n",
    "listas = []\n",
    "diccionario = {}\n",
    "print(type(tuplas))  # tuple\n",
    "print(type(listas))  # list\n",
    "print(type(diccionario))  #dict\n",
    "\n",
    "if(\"\"):  # String vacio --> Falsy\n",
    "    print('Truty')\n",
    "else:\n",
    "    print('Falsy')\n",
    "    \n",
    "if(\"algo\"):  # String con algo --> Truty\n",
    "    print('Truty')\n",
    "else:\n",
    "    print('Falsy')\n",
    "    \n",
    "\n",
    "# La misma logica para enteros con decimales\n",
    "\n",
    "if(0):  # Cero --> Falsy\n",
    "    print('Truty')\n",
    "else:\n",
    "    print('Falsy')\n",
    "    \n",
    "if(-1):  # Negativos --> Truty\n",
    "    print('Truty')\n",
    "else:\n",
    "    print('Falsy')\n",
    "    \n",
    "if(1):  # Positivos --> Truty\n",
    "    print('Truty')\n",
    "else:\n",
    "    print('Falsy')\n",
    "    \n",
    "# Fin bloque numeros\n",
    "\n",
    "if(None):  # \"null\" --> Falsy\n",
    "    print('Truty')\n",
    "else:\n",
    "    print('Falsy')\n",
    "    \n",
    "if((1,2)):  # Tupla vacia --> Falsy // Tupla con elementos --> Truty\n",
    "    print('Truty')\n",
    "else:\n",
    "    print('Falsy')\n",
    "\n",
    "    \n",
    "if([\"1\",\"2\"]):  # Lista vacia --> Falsy // Lista con elementos --> Truty\n",
    "    print('Truty')\n",
    "else:\n",
    "    print('Falsy')\n",
    "\n",
    "    \n",
    "if({ nombre: \"Leslie\" }):  # Diccionario vacio --> Falsy // Diccionario con elementos --> Truty\n",
    "    print('Truty')\n",
    "else:\n",
    "    print('Falsy')"
   ]
  },
  {
   "cell_type": "code",
   "execution_count": 22,
   "metadata": {},
   "outputs": [
    {
     "data": {
      "text/plain": [
       "[2, 3, 4, 5, 6, 7, 8, 9, 10]"
      ]
     },
     "execution_count": 22,
     "metadata": {},
     "output_type": "execute_result"
    }
   ],
   "source": [
    "arreglo = [1, 2, 3, 4, 5, 6, 7, 8, 9, 10]\n",
    "arreglo[2]  # 3\n",
    "arreglo[2:5] # Filtro (2, 5]\n",
    "arreglo[2:]  # Filtro (2, al final]\n",
    "arreglo[:7]  # Filtro [el inicio, 7]\n",
    "arreglo[-1]  # El ultimo valor\n",
    "arreglo[2:-1]  # Filtro (2, ultimo)\n",
    "arreglo[-8:-1]  # Filtro (posicion 8 contando del final,ultimo)\n",
    "arreglo[-9:]  # Filtro (posicion 9 contando desde el final, ultimo)"
   ]
  },
  {
   "cell_type": "code",
   "execution_count": 23,
   "metadata": {},
   "outputs": [
    {
     "name": "stdout",
     "output_type": "stream",
     "text": [
      "<class 'bool'>\n",
      "True\n"
     ]
    }
   ],
   "source": [
    "# Find item\n",
    "print(type(7 in arreglo))\n",
    "print(7 in arreglo)  # bool"
   ]
  },
  {
   "cell_type": "code",
   "execution_count": 24,
   "metadata": {},
   "outputs": [
    {
     "data": {
      "text/plain": [
       "10"
      ]
     },
     "execution_count": 24,
     "metadata": {},
     "output_type": "execute_result"
    }
   ],
   "source": [
    "# Longitud\n",
    "len(arreglo)"
   ]
  },
  {
   "cell_type": "code",
   "execution_count": 28,
   "metadata": {},
   "outputs": [],
   "source": [
    "#añadir item\n",
    "arreglo.append(11)  # Agrega al final\n",
    "print(arreglo)\n",
    "arreglo.pop()  # Devuelve cual se eliminó\n",
    "arreglo.insert(1,1.1)  # insert (indice donde insertar, valor)"
   ]
  },
  {
   "cell_type": "code",
   "execution_count": 29,
   "metadata": {},
   "outputs": [
    {
     "name": "stdout",
     "output_type": "stream",
     "text": [
      "1\n",
      "1.1\n",
      "2\n",
      "3\n",
      "4\n",
      "5\n",
      "6\n",
      "7\n",
      "8\n",
      "9\n",
      "10\n",
      "11\n"
     ]
    }
   ],
   "source": [
    "# Iterar for\n",
    "for numero in arreglo:\n",
    "    print(numero)"
   ]
  },
  {
   "cell_type": "code",
   "execution_count": 31,
   "metadata": {},
   "outputs": [
    {
     "name": "stdout",
     "output_type": "stream",
     "text": [
      "0\n",
      "1\n",
      "2\n",
      "3\n",
      "4\n",
      "5\n",
      "6\n",
      "7\n",
      "8\n",
      "9\n"
     ]
    }
   ],
   "source": [
    "# Iterar While\n",
    "contador = 0\n",
    "while contador < 10:\n",
    "    print(contador)\n",
    "    contador+= 1"
   ]
  },
  {
   "cell_type": "code",
   "execution_count": 32,
   "metadata": {},
   "outputs": [
    {
     "name": "stdout",
     "output_type": "stream",
     "text": [
      "True\n"
     ]
    }
   ],
   "source": [
    "# Tupla\n",
    "tupla_numeros = (1, 2, 3, 4, 5)\n",
    "tupla_numeros[0:3]\n",
    "len(tupla_numeros)\n",
    "print(3 in tupla_numeros)"
   ]
  },
  {
   "cell_type": "code",
   "execution_count": 48,
   "metadata": {},
   "outputs": [
    {
     "data": {
      "text/plain": [
       "False"
      ]
     },
     "execution_count": 48,
     "metadata": {},
     "output_type": "execute_result"
    }
   ],
   "source": [
    "# Diccionario\n",
    "leslie = {\n",
    "    \"nombre\": 'Leslie',\n",
    "    \"apellido\": 'Diaz',\n",
    "    'edad': 21,\n",
    "    \"hijos\": None,\n",
    "    \"casado\": False,\n",
    "    \"mascotas\": [\n",
    "        {\"nombre\": 'Princesita'},\n",
    "        {\"nombre\": 'K-trina'}\n",
    "    ]\n",
    "}\n",
    "leslie[\"nombre\"]\n",
    "leslie[\"mascotas\"][0][\"nombre\"]\n",
    "leslie.keys()\n",
    "leslie.values()\n",
    "\"apellido\" in leslie.keys()\n",
    "\"apellido\" in leslie.values()\n"
   ]
  },
  {
   "cell_type": "code",
   "execution_count": 50,
   "metadata": {},
   "outputs": [
    {
     "data": {
      "text/plain": [
       "False"
      ]
     },
     "execution_count": 50,
     "metadata": {},
     "output_type": "execute_result"
    }
   ],
   "source": [
    "# AND OR\n",
    "1 == 1 or 1 == 3  # True\n",
    "1 == 1 and 1 == 3  # False"
   ]
  }
 ],
 "metadata": {
  "kernelspec": {
   "display_name": "Python 3",
   "language": "python",
   "name": "python3"
  },
  "language_info": {
   "codemirror_mode": {
    "name": "ipython",
    "version": 3
   },
   "file_extension": ".py",
   "mimetype": "text/x-python",
   "name": "python",
   "nbconvert_exporter": "python",
   "pygments_lexer": "ipython3",
   "version": "3.7.3"
  }
 },
 "nbformat": 4,
 "nbformat_minor": 2
}
