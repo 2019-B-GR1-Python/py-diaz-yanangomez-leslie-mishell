{
 "cells": [
  {
   "cell_type": "markdown",
   "metadata": {},
   "source": [
    "### FUNCIONES LAMBDA"
   ]
  },
  {
   "cell_type": "code",
   "execution_count": 1,
   "metadata": {},
   "outputs": [
    {
     "data": {
      "text/plain": [
       "4"
      ]
     },
     "execution_count": 1,
     "metadata": {},
     "output_type": "execute_result"
    }
   ],
   "source": [
    "# FUNCIONES LAMBDA\n",
    "def elevar_al_cuadrado(numero_base):\n",
    "    return numero_base * numero_base\n",
    "elevar_al_cuadrado(2)"
   ]
  },
  {
   "cell_type": "code",
   "execution_count": 2,
   "metadata": {},
   "outputs": [
    {
     "data": {
      "text/plain": [
       "4"
      ]
     },
     "execution_count": 2,
     "metadata": {},
     "output_type": "execute_result"
    }
   ],
   "source": [
    "elevar_al_cuadrado_lambda = lambda numero: numero * numero\n",
    "elevar_al_cuadrado_lambda(2)"
   ]
  },
  {
   "cell_type": "code",
   "execution_count": 2,
   "metadata": {},
   "outputs": [
    {
     "data": {
      "text/plain": [
       "'Mensaje: El mensaje es claro'"
      ]
     },
     "execution_count": 2,
     "metadata": {},
     "output_type": "execute_result"
    }
   ],
   "source": [
    "imprimir_mensaje_lambda = lambda mensaje: f\"Mensaje: {mensaje}\"\n",
    "imprimir_mensaje_lambda('El mensaje es claro')"
   ]
  },
  {
   "cell_type": "code",
   "execution_count": 1,
   "metadata": {},
   "outputs": [
    {
     "data": {
      "text/plain": [
       "3"
      ]
     },
     "execution_count": 1,
     "metadata": {},
     "output_type": "execute_result"
    }
   ],
   "source": [
    "sumar_dos_numeros_lambda = lambda a,b: a + b\n",
    "sumar_dos_numeros_lambda(1,2)"
   ]
  },
  {
   "cell_type": "markdown",
   "metadata": {},
   "source": [
    "### CLASES"
   ]
  },
  {
   "cell_type": "code",
   "execution_count": 4,
   "metadata": {},
   "outputs": [],
   "source": [
    "# CLASES\n",
    "class Nada:\n",
    "    pass"
   ]
  },
  {
   "cell_type": "code",
   "execution_count": null,
   "metadata": {},
   "outputs": [],
   "source": [
    "una_nada = Nada()\n",
    "print(una_nada)\n",
    "print(type(una_nada))"
   ]
  },
  {
   "cell_type": "code",
   "execution_count": 30,
   "metadata": {},
   "outputs": [
    {
     "name": "stdout",
     "output_type": "stream",
     "text": [
      "Empezó el constructor\n",
      "rojo\n",
      "Color: rojo\n",
      "Chasis: 1\n",
      "1\n",
      "False\n"
     ]
    },
    {
     "data": {
      "text/plain": [
       "<function __main__.Auto.numero_chasis(self)>"
      ]
     },
     "execution_count": 30,
     "metadata": {},
     "output_type": "execute_result"
    }
   ],
   "source": [
    "class Auto:\n",
    "    color = None\n",
    "    __numero_chasis = 1  # Atributo privado, aunque en realidad no\n",
    "    _emitido = False  # ¿Atributo Protegido?\n",
    "    \n",
    "    # Constructor\n",
    "    def __init__(self, color):  # Hace referencia al this que se utiliza en otros lenguajes\n",
    "        print('Empezó el constructor')\n",
    "        self.color = color\n",
    "        print(self.color)\n",
    "     # Funcion toString   \n",
    "    def __str__(self):  # funcion To String\n",
    "        return f'Color: {self.color}\\n'+ f'Chasis: {self.__numero_chasis}'\n",
    "        \n",
    "    def numero_chasis(self):\n",
    "        return self.__calcular_impuesto()\n",
    "    # Funcion Privada\n",
    "    def __calcular_impuesto():\n",
    "        return 14 * self.__numero_chasis\n",
    "    \n",
    "    \n",
    "nuevo_auto = Auto('rojo')\n",
    "print(nuevo_auto)\n",
    "#  print(nuevo_auto.__numero_chasis)\n",
    "print(nuevo_auto._Auto__numero_chasis) # Para acceder al atributo/funcion \"privada\"\n",
    "print(nuevo_auto._emitido)\n",
    "\n",
    "Auto.numero_chasis"
   ]
  },
  {
   "cell_type": "code",
   "execution_count": 32,
   "metadata": {},
   "outputs": [
    {
     "name": "stdout",
     "output_type": "stream",
     "text": [
      "Inicializando BMW\n",
      "Empezó el constructor\n",
      "gris\n",
      "Color: gris\n",
      "Chasis: 1\n"
     ]
    }
   ],
   "source": [
    "class BMW(Auto):\n",
    "    def __init__(self, color):\n",
    "        print('Inicializando BMW')\n",
    "        super().__init__(color)\n",
    "\n",
    "        \n",
    "carro = BMW('gris')\n",
    "print(carro)"
   ]
  },
  {
   "cell_type": "markdown",
   "metadata": {},
   "source": [
    "### FUNCIONES DENTRO DE FUNCIONES"
   ]
  },
  {
   "cell_type": "code",
   "execution_count": 47,
   "metadata": {},
   "outputs": [
    {
     "data": {
      "text/plain": [
       "0.125"
      ]
     },
     "execution_count": 47,
     "metadata": {},
     "output_type": "execute_result"
    }
   ],
   "source": [
    "def calculadora(num_uno, num_dos, operacion = 'suma'):\n",
    "    def suma():\n",
    "        return num_uno + num_dos\n",
    "    def resta():\n",
    "        return num_uno - num_dos\n",
    "    def multiplicacion():\n",
    "        return num_uno * num_dos\n",
    "    def division():\n",
    "        if(num_dos == 0):\n",
    "            return 'El divisor no puede ser cero'\n",
    "        else:\n",
    "            return num_uno / num_dos\n",
    "        \n",
    "    def opcion_seleccionada():\n",
    "        # Simula un switch-case\n",
    "        opciones = {\n",
    "            \"suma\": suma(),\n",
    "            \"resta\": resta(),\n",
    "            \"multiplicacion\": multiplicacion(),\n",
    "            \"division\": division()\n",
    "        }\n",
    "        return opciones[operacion]\n",
    "    return opcion_seleccionada()\n",
    "\n",
    "calculadora(1,8, 'division')"
   ]
  },
  {
   "cell_type": "markdown",
   "metadata": {},
   "source": [
    "### PROYECTO PYTHON EN LA TERMINAL"
   ]
  },
  {
   "cell_type": "markdown",
   "metadata": {},
   "source": [
    "Papas - hijos: actor - pelicula"
   ]
  }
 ],
 "metadata": {
  "kernelspec": {
   "display_name": "Python 3",
   "language": "python",
   "name": "python3"
  },
  "language_info": {
   "codemirror_mode": {
    "name": "ipython",
    "version": 3
   },
   "file_extension": ".py",
   "mimetype": "text/x-python",
   "name": "python",
   "nbconvert_exporter": "python",
   "pygments_lexer": "ipython3",
   "version": "3.7.4"
  }
 },
 "nbformat": 4,
 "nbformat_minor": 2
}
