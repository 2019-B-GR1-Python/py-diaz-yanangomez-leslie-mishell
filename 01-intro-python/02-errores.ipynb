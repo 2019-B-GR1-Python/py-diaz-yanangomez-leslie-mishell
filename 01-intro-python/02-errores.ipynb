{
 "cells": [
  {
   "cell_type": "code",
   "execution_count": null,
   "metadata": {},
   "outputs": [],
   "source": [
    "#  ERRORES\n",
    "#  asdsad asdasd SyntaxError\n",
    "#  0/0\n",
    "#  a + b NameError\n",
    "#  a = {'b': 'b'}\n",
    "#  a['c'] KeyError"
   ]
  },
  {
   "cell_type": "code",
   "execution_count": 11,
   "metadata": {},
   "outputs": [
    {
     "name": "stdout",
     "output_type": "stream",
     "text": [
      "Error Agrupado Comun division by zero\n",
      "No se cae :D\n"
     ]
    }
   ],
   "source": [
    "try:\n",
    "    #  a + b\n",
    "    0/0\n",
    "    a = {'b': 'b'}\n",
    "    a['c']\n",
    "except NameError as nameError:\n",
    "    print('Name Error')\n",
    "except (ZeroDivisionError, KeyError) as errorComun:\n",
    "    print('Error Agrupado Comun')\n",
    "except Exception as error:\n",
    "    print('Cualquier otro error :(')\n",
    "print ('No se cae :D')"
   ]
  },
  {
   "cell_type": "code",
   "execution_count": null,
   "metadata": {},
   "outputs": [],
   "source": []
  }
 ],
 "metadata": {
  "kernelspec": {
   "display_name": "Python 3",
   "language": "python",
   "name": "python3"
  },
  "language_info": {
   "codemirror_mode": {
    "name": "ipython",
    "version": 3
   },
   "file_extension": ".py",
   "mimetype": "text/x-python",
   "name": "python",
   "nbconvert_exporter": "python",
   "pygments_lexer": "ipython3",
   "version": "3.7.3"
  }
 },
 "nbformat": 4,
 "nbformat_minor": 2
}
