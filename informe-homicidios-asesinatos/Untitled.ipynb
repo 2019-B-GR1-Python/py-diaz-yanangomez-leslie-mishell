{
 "cells": [
  {
   "cell_type": "code",
   "execution_count": null,
   "metadata": {},
   "outputs": [],
   "source": [
    "Escuela Politecnica Nacional\n",
    "Introduccion\n",
    "Definiciones Importantes\n",
    "Explicacion de las columnas\n",
    "Problemas y soluciones\n",
    "Bibliografia\n",
    "Anexos"
   ]
  }
 ],
 "metadata": {
  "kernelspec": {
   "display_name": "Python 3",
   "language": "python",
   "name": "python3"
  },
  "language_info": {
   "codemirror_mode": {
    "name": "ipython",
    "version": 3
   },
   "file_extension": ".py",
   "mimetype": "text/x-python",
   "name": "python",
   "nbconvert_exporter": "python",
   "pygments_lexer": "ipython3",
   "version": "3.7.3"
  }
 },
 "nbformat": 4,
 "nbformat_minor": 2
}
